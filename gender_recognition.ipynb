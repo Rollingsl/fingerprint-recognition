{
 "cells": [
  {
   "cell_type": "markdown",
   "metadata": {},
   "source": [
    "# Gender Recognition Model for Fingerprint Images\n",
    "\n",
    "## Introduction\n",
    "\n",
    "In this notebook, we will build a gender recognition model using Support Vector Machines (SVM) to classify fingerprint images into male and female categories. The dataset contains grayscale fingerprint images for both males and females.\n",
    "\n",
    "## Step 1: Import Libraries\n",
    "\n",
    "In this step, we import the necessary libraries for building our gender recognition model. We will be using OpenCV for image processing, NumPy for array manipulation, and scikit-learn for SVM implementation."
   ]
  },
  {
   "cell_type": "code",
   "execution_count": 1,
   "metadata": {},
   "outputs": [],
   "source": [
    "import cv2\n",
    "import os\n",
    "import joblib\n",
    "import numpy as np\n",
    "from sklearn.model_selection import train_test_split\n",
    "from sklearn.svm import SVC\n",
    "from sklearn.metrics import accuracy_score"
   ]
  },
  {
   "cell_type": "markdown",
   "metadata": {},
   "source": [
    "## Step 2: Load and Preprocess Data\n",
    "\n",
    "In this step, we define a function `load_fingerprint_data` that loads and preprocesses the fingerprint images from the specified paths for male and female images. The function reads each image in grayscale, resizes it to a fixed size (e.g., 100x100 pixels), and stores the image data and corresponding gender label (male or female) in lists."
   ]
  },
  {
   "cell_type": "code",
   "execution_count": 4,
   "metadata": {},
   "outputs": [],
   "source": [
    "# Function to load and preprocess fingerprint images\n",
    "def load_gender_data(path, gender):\n",
    "    data = []\n",
    "    labels = []\n",
    "    for img_file in os.listdir(path):\n",
    "        img_path = os.path.join(path, img_file)\n",
    "        try:\n",
    "            img = cv2.imread(img_path, cv2.IMREAD_GRAYSCALE)\n",
    "            if img is None:\n",
    "                print(\"Error loading image:\", img_path)\n",
    "                continue\n",
    "\n",
    "            img = cv2.resize(img, (100, 100))  # Resize the image to a fixed size\n",
    "            data.append(img)\n",
    "            labels.append(gender)\n",
    "        except Exception as e:\n",
    "            print(\"Error loading image:\", img_path, \"Error:\", str(e))\n",
    "            continue\n",
    "            \n",
    "    return data, labels\n",
    "\n",
    "# Function to load and preprocess fingerprint images\n",
    "def load_handedness_data(path, hand):\n",
    "    data = []\n",
    "    labels = []\n",
    "    for img_file in os.listdir(path):\n",
    "        img = cv2.imread(os.path.join(path, img_file), cv2.IMREAD_GRAYSCALE)\n",
    "        img = cv2.resize(img, (100, 100))  # Resize the image to a fixed size\n",
    "        data.append(img)\n",
    "        labels.append(hand)\n",
    "    return data, labels\n",
    "\n",
    "\n",
    "# Load and preprocess the data\n",
    "male_path = \"C:\\\\Users\\\\Hp\\\\Desktop\\\\ML PROJECT\\\\fingerprint_datasets\\\\Real\"\n",
    "female_path = \"C:\\\\Users\\\\Hp\\\\Desktop\\\\ML PROJECT\\\\fingerprint_datasets\\\\Real\"\n",
    "left_path = \"C:\\\\Users\\\\Hp\\\\Desktop\\\\ML PROJECT\\\\fingerprint_datasets\\\\Real\"\n",
    "right_path = \"C:\\\\Users\\\\Hp\\\\Desktop\\\\ML PROJECT\\\\fingerprint_datasets\\\\Real\"\n",
    "\n",
    "male_data, male_labels = load_gender_data(male_path, \"male\")\n",
    "female_data, female_labels = load_gender_data(female_path, \"female\")\n",
    "left_data, left_labels = load_handedness_data(left_path, \"left\")\n",
    "right_data, right_labels = load_handedness_data(right_path, \"right\")\n",
    "\n",
    "# Combine male and female data plus left and right data\n",
    "all_data = male_data + female_data + left_data + right_data\n",
    "all_labels = male_labels + female_labels + left_labels + right_labels\n",
    "\n",
    "# Convert data and labels to numpy arrays\n",
    "all_data = np.array(all_data)\n",
    "all_labels = np.array(all_labels)\n",
    "\n",
    "# Split the data into training and testing sets\n",
    "X_train, X_test, y_train, y_test = train_test_split(all_data, all_labels, test_size=0.2, random_state=42)"
   ]
  },
  {
   "cell_type": "markdown",
   "metadata": {},
   "source": [
    "## Step 3: Train the SVM Model\n",
    "\n",
    "In this step, we prepare the data for SVM by flattening the 2D image arrays to 1D arrays. Then, we create an instance of the SVM classifier with a linear kernel and train it using the training data."
   ]
  },
  {
   "cell_type": "code",
   "execution_count": null,
   "metadata": {},
   "outputs": [],
   "source": [
    "# After training the model\n",
    "svm_model = SVC(kernel='linear')\n",
    "\n",
    "# Flatten the data for SVM\n",
    "X_train_flatten = X_train.reshape(X_train.shape[0], -1)\n",
    "X_test_flatten = X_test.reshape(X_test.shape[0], -1)\n",
    "\n",
    "# Create and train the SVM model\n",
    "svm_model = SVC(kernel='linear')\n",
    "svm_model.fit(X_train_flatten, y_train)\n",
    "\n",
    "# Save the trained model to a file\n",
    "joblib.dump(svm_model, 'svm_model.joblib')"
   ]
  },
  {
   "cell_type": "markdown",
   "metadata": {},
   "source": [
    "## Step 4: Make Predictions and Evaluate the Model\n",
    "\n",
    "In this step, we use the trained SVM model to make predictions on the test set. We then calculate the accuracy of the model by comparing the predicted labels with the actual labels from the test set."
   ]
  },
  {
   "cell_type": "code",
   "execution_count": 4,
   "metadata": {},
   "outputs": [
    {
     "name": "stdout",
     "output_type": "stream",
     "text": [
      "Accuracy: 6.42%\n"
     ]
    }
   ],
   "source": [
    "# Load the saved model\n",
    "svm_model = joblib.load('svm_model.joblib')\n",
    "\n",
    "# Make predictions on the test set\n",
    "y_pred = svm_model.predict(X_test_flatten)\n",
    "\n",
    "# Evaluate the model\n",
    "accuracy = accuracy_score(y_test, y_pred)\n",
    "print(\"Accuracy:\", \"{:.2f}%\".format(accuracy*100))"
   ]
  },
  {
   "cell_type": "markdown",
   "metadata": {},
   "source": [
    "# Predict a Sample.\n",
    "\n",
    "1. First, we define a function preprocess_image to preprocess the input fingerprint image. The function takes the image path as input and loads the image using OpenCV. It then resizes the image to the same size used for training (100x100 pixels) and flattens the image to a 1D array. This processed image will be used as input to the trained SVM model.\n",
    "\n",
    "2. Next, we assume that you have already trained the SVM model and saved it using a method like joblib. The code creates an instance of the SVM model with a linear kernel.\n",
    "\n",
    "3. We define the function predict_gender that takes the image path and the trained SVM model as input. Inside the function, we preprocess the input image using the preprocess_image function and then use the trained SVM model to make predictions. The predicted label will be either \"male\" or \"female.\"\n",
    "\n",
    "4. We specify the path of the test fingerprint image in the test_image_path variable. You should change this path to the actual location of your test image.\n",
    "\n",
    "5. Finally, we call the predict_gender function with the test image path and the trained SVM model as arguments, and it returns the predicted gender of the fingerprint. We print the result to the console."
   ]
  },
  {
   "cell_type": "code",
   "execution_count": 9,
   "metadata": {},
   "outputs": [
    {
     "name": "stdout",
     "output_type": "stream",
     "text": [
      "Gender Prediction: Male\n",
      "Handedness Prediction: Right\n"
     ]
    }
   ],
   "source": [
    "# Function to preprocess the input image\n",
    "def preprocess_image(image_path):\n",
    "    img = cv2.imread(image_path, cv2.IMREAD_GRAYSCALE)\n",
    "    img = cv2.resize(img, (100, 100))  # Resize the image to match the training data size\n",
    "    img_flatten = img.reshape(1, -1)   # Flatten the image to a 1D array\n",
    "    return img_flatten\n",
    "\n",
    "# Load the trained SVM model (already trained using previous code)\n",
    "svm_model = SVC(kernel='linear')\n",
    "# Assuming you have already trained the model and saved it using 'joblib' or similar\n",
    "# Load the saved model\n",
    "svm_model = joblib.load('svm_model.joblib')\n",
    "\n",
    "# Function to predict gender based on fingerprint image\n",
    "def predict_gender(image_path, model):\n",
    "    img_flatten = preprocess_image(image_path)\n",
    "    prediction = model.predict(img_flatten)\n",
    "    return \"Male\" if prediction[0] == \"male\" else \"Female\"\n",
    "\n",
    "# Function to predict the handedness of a fingerprint\n",
    "def predict_handedness(image_path, model):\n",
    "    img_flatten = preprocess_image(image_path)\n",
    "    prediction1 = model.predict(img_flatten)\n",
    "    return \"Left\" if prediction1[0] == \"left\" else \"Right\"\n",
    "\n",
    "# Input image path (change this to your test fingerprint image)\n",
    "test_image_path = \"/Users/Dyson/Desktop/Image1.BMP\"\n",
    "\n",
    "# Make gender prediction using the trained model\n",
    "gender_prediction = predict_gender(test_image_path, svm_model)\n",
    "print(\"Gender Prediction:\", gender_prediction)\n",
    "\n",
    "# Make handedness prediction using trained model\n",
    "handedness_prediction = predict_handedness(test_image_path, svm_model)\n",
    "print(\"Handedness Prediction:\", handedness_prediction)\n"
   ]
  },
  {
   "cell_type": "markdown",
   "metadata": {},
   "source": [
    "## Conclusion\n",
    "\n",
    "In this notebook, we successfully built a gender recognition model using Support Vector Machines (SVM) for classifying fingerprint images into male and female categories. The model achieved a certain accuracy on the test set."
   ]
  }
 ],
 "metadata": {
  "kernelspec": {
   "display_name": "Python 3 (ipykernel)",
   "language": "python",
   "name": "python3"
  },
  "language_info": {
   "codemirror_mode": {
    "name": "ipython",
    "version": 3
   },
   "file_extension": ".py",
   "mimetype": "text/x-python",
   "name": "python",
   "nbconvert_exporter": "python",
   "pygments_lexer": "ipython3",
   "version": "3.9.13"
  }
 },
 "nbformat": 4,
 "nbformat_minor": 2
}
